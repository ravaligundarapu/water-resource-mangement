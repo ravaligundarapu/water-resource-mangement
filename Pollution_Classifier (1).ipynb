{
 "cells": [
  {
   "cell_type": "markdown",
   "id": "a6851f72",
   "metadata": {},
   "source": [
    "# 🌿 Environment Monitoring & Pollution Control — Simple Classification Project\n",
    "Predict air quality category (Good/Moderate/Unhealthy) from sensor readings.\n",
    "\n",
    "This notebook is **Colab-ready**. Follow the steps below."
   ]
  },
  {
   "cell_type": "markdown",
   "id": "fc1b6677",
   "metadata": {},
   "source": [
    "## 1) Setup\n",
    "If you're running in **Google Colab**, run the cell below and then upload the dataset file `env_pollution_sample.csv` when prompted."
   ]
  },
  {
   "cell_type": "code",
   "execution_count": null,
   "id": "c903d980",
   "metadata": {},
   "outputs": [],
   "source": [
    "\n",
    "import sys, os\n",
    "import pandas as pd\n",
    "from sklearn.model_selection import train_test_split\n",
    "from sklearn.preprocessing import StandardScaler\n",
    "from sklearn.pipeline import Pipeline\n",
    "from sklearn.metrics import accuracy_score, classification_report, ConfusionMatrixDisplay\n",
    "from sklearn.ensemble import RandomForestClassifier\n",
    "import matplotlib.pyplot as plt\n",
    "\n",
    "# If in Colab, use file upload; otherwise try local path.\n",
    "try:\n",
    "    from google.colab import files  # type: ignore\n",
    "    IN_COLAB = True\n",
    "except Exception:\n",
    "    IN_COLAB = False\n",
    "\n",
    "if IN_COLAB:\n",
    "    uploaded = files.upload()  # Upload env_pollution_sample.csv\n",
    "    csv_name = next(iter(uploaded))\n",
    "else:\n",
    "    # If running locally, ensure the CSV is in the same folder\n",
    "    csv_name = \"env_pollution_sample.csv\"\n",
    "\n",
    "print(\"Using CSV:\", csv_name)\n",
    "df = pd.read_csv(csv_name)\n",
    "df.head()\n"
   ]
  },
  {
   "cell_type": "markdown",
   "id": "3efd21fc",
   "metadata": {},
   "source": [
    "## 2) Explore the data"
   ]
  },
  {
   "cell_type": "code",
   "execution_count": null,
   "id": "85f11648",
   "metadata": {},
   "outputs": [],
   "source": [
    "\n",
    "print(\"Shape:\", df.shape)\n",
    "print(\"Columns:\", df.columns.tolist())\n",
    "\n",
    "print(\"\\nBasic statistics:\")\n",
    "display(df.describe(include='all'))\n",
    "\n",
    "print(\"\\nClass distribution:\")\n",
    "print(df['AQI_Class'].value_counts())\n"
   ]
  },
  {
   "cell_type": "markdown",
   "id": "6352f972",
   "metadata": {},
   "source": [
    "## 3) Train a simple classifier"
   ]
  },
  {
   "cell_type": "code",
   "execution_count": null,
   "id": "d9e9188b",
   "metadata": {},
   "outputs": [],
   "source": [
    "\n",
    "X = df.drop(columns=[\"AQI_Class\"])\n",
    "y = df[\"AQI_Class\"]\n",
    "\n",
    "X_train, X_test, y_train, y_test = train_test_split(\n",
    "    X, y, test_size=0.2, random_state=7, stratify=y\n",
    ")\n",
    "\n",
    "pipe = Pipeline([\n",
    "    (\"scaler\", StandardScaler()),\n",
    "    (\"rf\", RandomForestClassifier(n_estimators=200, random_state=7))\n",
    "])\n",
    "\n",
    "pipe.fit(X_train, y_train)\n",
    "y_pred = pipe.predict(X_test)\n",
    "\n",
    "acc = accuracy_score(y_test, y_pred)\n",
    "print(\"Test Accuracy:\", round(acc, 4))\n",
    "\n",
    "print(\"\\nClassification Report:\\n\")\n",
    "print(classification_report(y_test, y_pred))\n",
    "\n",
    "ConfusionMatrixDisplay.from_estimator(pipe, X_test, y_test)\n",
    "plt.title(\"Confusion Matrix - AQI Classifier\")\n",
    "plt.tight_layout()\n",
    "plt.show()\n"
   ]
  },
  {
   "cell_type": "markdown",
   "id": "87d3e14e",
   "metadata": {},
   "source": [
    "## 4) Try your own inputs"
   ]
  },
  {
   "cell_type": "code",
   "execution_count": null,
   "id": "eb687cfc",
   "metadata": {},
   "outputs": [],
   "source": [
    "\n",
    "sample = X_test.iloc[:5].copy()\n",
    "print(\"Sample inputs:\")\n",
    "display(sample)\n",
    "\n",
    "print(\"Predictions:\")\n",
    "print(pipe.predict(sample))\n"
   ]
  }
 ],
 "metadata": {},
 "nbformat": 4,
 "nbformat_minor": 5
}
